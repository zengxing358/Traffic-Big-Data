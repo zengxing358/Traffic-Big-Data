{
 "cells": [
  {
   "cell_type": "markdown",
   "metadata": {},
   "source": [
    "# 公共交通单程准时度计算"
   ]
  },
  {
   "cell_type": "markdown",
   "metadata": {},
   "source": [
    "$$ 公车时空路径从O点到D点的平均时间距离——dist_{ow}$$\n",
    "$$ 公车设计的标准单程时间——stdt_{ow}=t_2-t_1$$\n",
    "$$ δ_{ow}=\\frac{|dist_{ow}-stdt_{ow}|}{stdt_{ow}}$$\n",
    "$$ 单程准时度的平均值——\\overline {OWPI}$$\n",
    "<center><pre>单程准时度（One-way punctuality index，OWPI）：</pre></center>$$ OWPI=1-δ_{ow},OWPI ≤ 1$$\n",
    "<center><pre>单程准时稳定度（Stability of one-way punctuality index, SOWPI）：</pre></center>$$ SOWPI =1-\\frac{\\sqrt{\\frac{\\sum_{j=1}^m(OWPI_i-\\overline {OWPI})^2}{m}}}{\\overline {OWPI}}$$"
   ]
  },
  {
   "cell_type": "markdown",
   "metadata": {},
   "source": [
    "# 公共交通站点准时稳定度计算"
   ]
  },
  {
   "cell_type": "markdown",
   "metadata": {},
   "source": [
    "$$ 两条公交车的时空路径在指定站点位置的平均时间距离——dist_h$$\n",
    "$$ 指定线路的标准车头时距——stdt_h$$\n",
    "$$ δ_h=\\frac{|dist_h-stdt_h|}{stdt_h}$$\n",
    "<center><pre>站点准时度(Station punctuality index,SPI)：</pre></center>$$  SPI=1-δ_h,SPI ≤ 1$$\n",
    "<center><pre>站点准时稳定度（Stability of station punctuality index, SSPI）：</pre></center>$$ SSPI =1-\\frac{\\sqrt{\\frac{\\sum_{j=1}^m(SPI_i-\\overline {SPI})^2}{m}}}{\\overline {SPI}}$$"
   ]
  },
  {
   "cell_type": "code",
   "execution_count": null,
   "metadata": {},
   "outputs": [],
   "source": []
  }
 ],
 "metadata": {
  "kernelspec": {
   "display_name": "Python 3",
   "language": "python",
   "name": "python3"
  },
  "language_info": {
   "codemirror_mode": {
    "name": "ipython",
    "version": 3
   },
   "file_extension": ".py",
   "mimetype": "text/x-python",
   "name": "python",
   "nbconvert_exporter": "python",
   "pygments_lexer": "ipython3",
   "version": "3.8.5"
  },
  "toc": {
   "base_numbering": 1,
   "nav_menu": {},
   "number_sections": true,
   "sideBar": true,
   "skip_h1_title": false,
   "title_cell": "Table of Contents",
   "title_sidebar": "Contents",
   "toc_cell": false,
   "toc_position": {},
   "toc_section_display": true,
   "toc_window_display": false
  }
 },
 "nbformat": 4,
 "nbformat_minor": 4
}
